{
 "cells": [
  {
   "cell_type": "code",
   "execution_count": null,
   "id": "46f8ce72",
   "metadata": {},
   "outputs": [
    {
     "name": "stderr",
     "output_type": "stream",
     "text": [
      "[nltk_data] Downloading package punkt to\n",
      "[nltk_data]     C:\\Users\\DELL\\AppData\\Roaming\\nltk_data...\n",
      "[nltk_data]   Package punkt is already up-to-date!\n",
      "[nltk_data] Downloading package averaged_perceptron_tagger to\n",
      "[nltk_data]     C:\\Users\\DELL\\AppData\\Roaming\\nltk_data...\n",
      "[nltk_data]   Package averaged_perceptron_tagger is already up-to-\n",
      "[nltk_data]       date!\n"
     ]
    },
    {
     "name": "stdout",
     "output_type": "stream",
     "text": [
      "Hi, I'm Malia. Type 'quit' to exit.\n",
      "You: can you help me\n",
      "Malia: I'm sorry, I don't understand that. Can you rephrase?\n"
     ]
    }
   ],
   "source": [
    "import nltk\n",
    "import re\n",
    "from nltk.chat.util import Chat, reflections\n",
    "\n",
    "# Download necessary NLTK data\n",
    "nltk.download('punkt')\n",
    "nltk.download('averaged_perceptron_tagger')\n",
    "\n",
    "# Define patterns and responses\n",
    "pairs = [\n",
    "    [r\"my name is (.*)\", [\"Hello %1, how can I assist you today?\",]],\n",
    "    [r\"hi|hey|hello\", [\"Hello, how can I help you?\", \"Hey there! What can I do for you?\", \"Hi! How can I assist you today?\"]],\n",
    "    [r\"what is your name?\", [\"I am Malia, a chatbot created to assist you. You can call me Malia.\",]],\n",
    "    [r\"how are you?\", [\"I'm a bot, so I don't have feelings, but I'm here to help you!\",]],\n",
    "    [r\"can you help me with (.*)\", [\"Sure, I can help you with %1. Please provide more details.\",]],\n",
    "    [r\"sorry (.*)\", [\"It's okay. How can I assist you?\",]],\n",
    "    [r\"thank you|thanks\", [\"You're welcome!\", \"No problem!\", \"Happy to help!\"]],\n",
    "    [r\"quit\", [\"Bye! Have a great day!\", \"Goodbye!\"]],\n",
    "    [r\"(.*)\", [\"I'm sorry, I don't understand that. Can you rephrase?\", \"Could you please elaborate on that?\"]],\n",
    "]\n",
    "\n",
    "# Define the chatbot class\n",
    "class RuleBasedChatbot:\n",
    "    def __init__(self, pairs):\n",
    "        self.chat = Chat(pairs, reflections)\n",
    "\n",
    "    def respond(self, user_input):\n",
    "        return self.chat.respond(user_input)\n",
    "\n",
    "# Initialize the chatbot\n",
    "malia = RuleBasedChatbot(pairs)\n",
    "\n",
    "# Function to chat with the bot\n",
    "def chat_with_malia():\n",
    "    print(\"Hi, I'm Malia. Type 'quit' to exit.\")\n",
    "    while True:\n",
    "        user_input = input(\"You: \")\n",
    "        if user_input.lower() == 'quit':\n",
    "            print(\"Malia: Bye! Have a great day!\")\n",
    "            break\n",
    "        response = malia.respond(user_input)\n",
    "        print(f\"Malia: {response}\")\n",
    "\n",
    "# Start chatting with Malia\n",
    "chat_with_malia()"
   ]
  },
  {
   "cell_type": "code",
   "execution_count": null,
   "id": "9f1ab03a",
   "metadata": {},
   "outputs": [],
   "source": []
  }
 ],
 "metadata": {
  "kernelspec": {
   "display_name": "Python 3 (ipykernel)",
   "language": "python",
   "name": "python3"
  },
  "language_info": {
   "codemirror_mode": {
    "name": "ipython",
    "version": 3
   },
   "file_extension": ".py",
   "mimetype": "text/x-python",
   "name": "python",
   "nbconvert_exporter": "python",
   "pygments_lexer": "ipython3",
   "version": "3.11.5"
  }
 },
 "nbformat": 4,
 "nbformat_minor": 5
}
