{
 "cells": [
  {
   "cell_type": "code",
   "execution_count": 1,
   "id": "ce025bf2",
   "metadata": {},
   "outputs": [
    {
     "name": "stdout",
     "output_type": "stream",
     "text": [
      "Collaborative Filtering Recommendations:\n",
      "['Waiting to Exhale', 'Father of the Bride Part II']\n",
      "\n",
      "Content-Based Filtering Recommendations:\n",
      "['Father of the Bride Part II', 'Toy Story']\n"
     ]
    }
   ],
   "source": [
    "import pandas as pd\n",
    "from sklearn.metrics.pairwise import cosine_similarity\n",
    "from sklearn.feature_extraction.text import TfidfVectorizer\n",
    "\n",
    "# Sample movie data\n",
    "movies = pd.DataFrame({\n",
    "    'movie_id': [1, 2, 3, 4, 5],\n",
    "    'title': ['Toy Story', 'Jumanji', 'Grumpier Old Men', 'Waiting to Exhale', 'Father of the Bride Part II'],\n",
    "    'genres': ['Animation|Children|Comedy', 'Adventure|Children|Fantasy', 'Comedy|Romance', 'Comedy|Drama|Romance', 'Comedy']\n",
    "})\n",
    "\n",
    "# Sample user ratings\n",
    "ratings = pd.DataFrame({\n",
    "    'user_id': [1, 1, 1, 2, 2, 2, 3, 3, 3],\n",
    "    'movie_id': [1, 2, 3, 1, 2, 4, 2, 3, 5],\n",
    "    'rating': [5, 3, 4, 4, 2, 5, 3, 4, 2]\n",
    "})\n",
    "\n",
    "# Collaborative Filtering Recommendation\n",
    "def collaborative_filtering_recommendation(user_id, ratings, movies, n_recommendations=3):\n",
    "    user_ratings = ratings.pivot(index='user_id', columns='movie_id', values='rating')\n",
    "    user_similarity = cosine_similarity(user_ratings.fillna(0))\n",
    "    similar_users = pd.DataFrame(user_similarity, index=user_ratings.index, columns=user_ratings.index)\n",
    "    \n",
    "    # Find similar users\n",
    "    similar_users = similar_users[user_id].sort_values(ascending=False)\n",
    "    similar_user_ids = similar_users.index[1:n_recommendations + 1]\n",
    "\n",
    "    # Recommend movies rated by similar users\n",
    "    recommended_movies = []\n",
    "    for other_user in similar_user_ids:\n",
    "        recommended_movies += ratings[ratings['user_id'] == other_user]['movie_id'].tolist()\n",
    "\n",
    "    # Filter out movies already rated by the user\n",
    "    already_rated = ratings[ratings['user_id'] == user_id]['movie_id'].tolist()\n",
    "    recommended_movies = list(set(recommended_movies) - set(already_rated))\n",
    "\n",
    "    return movies[movies['movie_id'].isin(recommended_movies)]['title'].tolist()\n",
    "\n",
    "# Content-Based Filtering Recommendation\n",
    "def content_based_filtering_recommendation(user_id, ratings, movies, n_recommendations=3):\n",
    "    # Merge ratings and movies\n",
    "    user_data = ratings[ratings['user_id'] == user_id].merge(movies, on='movie_id')\n",
    "\n",
    "    # Use TF-IDF Vectorizer on genres\n",
    "    tfidf = TfidfVectorizer(stop_words='english')\n",
    "    tfidf_matrix = tfidf.fit_transform(movies['genres'])\n",
    "\n",
    "    # Compute cosine similarity\n",
    "    cosine_sim = cosine_similarity(tfidf_matrix, tfidf_matrix)\n",
    "\n",
    "    # Get indices of movies the user has rated\n",
    "    movie_indices = user_data['movie_id'].tolist()\n",
    "\n",
    "    # Get scores for similar movies\n",
    "    sim_scores = list(enumerate(cosine_sim[movie_indices].mean(axis=0)))\n",
    "    sim_scores = sorted(sim_scores, key=lambda x: x[1], reverse=True)\n",
    "    \n",
    "    # Get movie recommendations\n",
    "    recommended_movie_indices = [i for i, _ in sim_scores if i not in movie_indices][:n_recommendations]\n",
    "    \n",
    "    return movies.iloc[recommended_movie_indices]['title'].tolist()\n",
    "\n",
    "# Test the recommendation systems\n",
    "user_id = 1\n",
    "print(\"Collaborative Filtering Recommendations:\")\n",
    "print(collaborative_filtering_recommendation(user_id, ratings, movies))\n",
    "\n",
    "print(\"\\nContent-Based Filtering Recommendations:\")\n",
    "print(content_based_filtering_recommendation(user_id, ratings, movies))"
   ]
  },
  {
   "cell_type": "code",
   "execution_count": null,
   "id": "5afbfe2b",
   "metadata": {},
   "outputs": [],
   "source": []
  }
 ],
 "metadata": {
  "kernelspec": {
   "display_name": "Python 3 (ipykernel)",
   "language": "python",
   "name": "python3"
  },
  "language_info": {
   "codemirror_mode": {
    "name": "ipython",
    "version": 3
   },
   "file_extension": ".py",
   "mimetype": "text/x-python",
   "name": "python",
   "nbconvert_exporter": "python",
   "pygments_lexer": "ipython3",
   "version": "3.11.5"
  }
 },
 "nbformat": 4,
 "nbformat_minor": 5
}
